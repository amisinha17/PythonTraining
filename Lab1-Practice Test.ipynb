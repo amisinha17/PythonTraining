{
 "cells": [
  {
   "cell_type": "markdown",
   "metadata": {},
   "source": [
    "# Q2: Create script to input two numbers x and y with following instruction:\n",
    "     add when user select 1, sub on 2, mul on 3, div 4 and power on 5(give options to select x^y or y^x)"
   ]
  },
  {
   "cell_type": "code",
   "execution_count": 9,
   "metadata": {},
   "outputs": [
    {
     "name": "stdout",
     "output_type": "stream",
     "text": [
      "Enter a number for x = 2\n",
      "Enter a number for y = 3\n",
      "\n",
      "Would you like to -\n",
      "1. Add\n",
      "2. Substract\n",
      "3. Multiply\n",
      "4. Divide \n",
      "5. Power On\n",
      "Enter your choice : 5\n",
      "\n",
      "Please enter power on values - \n",
      "a. x ^ y \n",
      "b. y ^ xb\n",
      "\n",
      "Result of y ^ x =  9.0\n"
     ]
    }
   ],
   "source": [
    "import math\n",
    "x=int(input(\"Enter a number for x = \"))\n",
    "y=int(input(\"Enter a number for y = \"))\n",
    "\n",
    "print(\"\\nWould you like to -\",\"1. Add\",\"2. Substract\", \"3. Multiply\", \"4. Divide \", \"5. Power On\",sep=(\"\\n\"))\n",
    "choice=int(input(\"Enter your choice : \"))\n",
    "\n",
    "if choice==5:\n",
    "        powerChoice=input(\"\\nPlease enter power on values - \\na. x ^ y \\nb. y ^ x\") \n",
    "        if powerChoice==\"a\":\n",
    "            print(\"\\nResult of x ^ y = \", (math.pow(x,y)))\n",
    "        elif powerChoice==\"b\":\n",
    "            print(\"\\nResult of y ^ x = \", (math.pow(y,x)) )\n",
    "        else:\n",
    "            print(\"Invalid entry.\")\n",
    "elif choice==1:\n",
    "    print(\"Result of x + y = \", (x+y))\n",
    "elif choice==2:\n",
    "        print(\"Result of x - y = \", (x-y))\n",
    "elif choice==3:\n",
    "        print(\"Result of x * y = \", (x*y))\n",
    "elif choice==4:\n",
    "        print(\"Result of x / y = \", (x/y))\n",
    "else:\n",
    "    print(\"Invalid entry.\")"
   ]
  },
  {
   "cell_type": "code",
   "execution_count": null,
   "metadata": {},
   "outputs": [],
   "source": []
  }
 ],
 "metadata": {
  "kernelspec": {
   "display_name": "Python 3",
   "language": "python",
   "name": "python3"
  },
  "language_info": {
   "codemirror_mode": {
    "name": "ipython",
    "version": 3
   },
   "file_extension": ".py",
   "mimetype": "text/x-python",
   "name": "python",
   "nbconvert_exporter": "python",
   "pygments_lexer": "ipython3",
   "version": "3.6.5"
  }
 },
 "nbformat": 4,
 "nbformat_minor": 2
}
