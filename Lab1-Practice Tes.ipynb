{
 "cells": [
  {
   "cell_type": "markdown",
   "metadata": {},
   "source": [
    "## Q1: User input a string \"A\" and \"B\" having with length 10 and 5 res\n",
    " Convert String A to upper case\n",
    " Convert String B to lower case"
   ]
  },
  {
   "cell_type": "code",
   "execution_count": 10,
   "metadata": {},
   "outputs": [
    {
     "name": "stdout",
     "output_type": "stream",
     "text": [
      "Enter string A not more or less than 10 character : Television\n",
      "Enter string B not more or less than 5 character : Prime\n",
      "Value if A is : TELEVISION\n",
      "Value if A is : prime\n"
     ]
    }
   ],
   "source": [
    "A=input(\"Enter string A not more or less than 10 character : \")\n",
    "if (len(A)!=10):\n",
    "    print(\"Input string does not have 10 characters\")\n",
    "    A=\"Try again for A\"\n",
    "B=input(\"Enter string B not more or less than 5 character : \")\n",
    "if(len(B)!=5):\n",
    "    print(\"Input string does not have 5 characters\")\n",
    "    B=\"Try again for B\"\n",
    "print(\"Value if A is\",A.upper(),sep=(\" : \"))\n",
    "print(\"Value if A is\",B.lower(),sep=(\" : \"))"
   ]
  },
  {
   "cell_type": "markdown",
   "metadata": {},
   "source": [
    "# Q2: Create script to input two numbers x and y with following instruction:\n",
    "     add when user select 1, sub on 2, mul on 3, div 4 and power on 5(give options to select x^y or y^x)"
   ]
  },
  {
   "cell_type": "code",
   "execution_count": 1,
   "metadata": {},
   "outputs": [
    {
     "name": "stdout",
     "output_type": "stream",
     "text": [
      "Enter a number for x = 2\n",
      "Enter a number for y = 4\n",
      "\n",
      "Would you like to -\n",
      "1. Add\n",
      "2. Substract\n",
      "3. Multiply\n",
      "4. Divide \n",
      "5. Power On\n",
      "Enter your choice : 5\n",
      "\n",
      "Please enter power on values - \n",
      "a. x ^ y \n",
      "b. y ^ xb\n",
      "\n",
      "Result of y ^ x =  16.0\n"
     ]
    }
   ],
   "source": [
    "import math\n",
    "x=float(input(\"Enter a number for x = \"))\n",
    "y=float(input(\"Enter a number for y = \"))\n",
    "\n",
    "print(\"\\nWould you like to -\",\"1. Add\",\"2. Substract\", \"3. Multiply\", \"4. Divide \", \"5. Power On\",sep=(\"\\n\"))\n",
    "choice=int(input(\"Enter your choice : \"))\n",
    "\n",
    "if choice==5:\n",
    "        powerChoice=input(\"\\nPlease enter power on values - \\na. x ^ y \\nb. y ^ x\") \n",
    "        if powerChoice==\"a\":\n",
    "            print(\"\\nResult of x ^ y = \", (x**y)\n",
    "        elif powerChoice==\"b\":\n",
    "            print(\"\\nResult of y ^ x = \", (math.pow(y,x)))\n",
    "        else:\n",
    "            print(\"Invalid entry.\")\n",
    "elif choice==1:\n",
    "    print(\"Result of x + y = \", (x+y))\n",
    "elif choice==2:\n",
    "        print(\"Result of x - y = \", (x-y))\n",
    "elif choice==3:\n",
    "        print(\"Result of x * y = \", (x*y))\n",
    "elif choice==4:\n",
    "        print(\"Result of x / y = \", (x/y))\n",
    "else:\n",
    "    print(\"Invalid entry.\")"
   ]
  },
  {
   "cell_type": "markdown",
   "metadata": {},
   "source": [
    "## Q3: create a x tuple of size 6 and type cast it into list and stored result in variable b\n",
    "in b insert a member at 2nd position"
   ]
  },
  {
   "cell_type": "code",
   "execution_count": 5,
   "metadata": {},
   "outputs": [
    {
     "data": {
      "text/plain": [
       "[1, 2, 'NewValue', 3, 4, 5, 6]"
      ]
     },
     "execution_count": 5,
     "metadata": {},
     "output_type": "execute_result"
    }
   ],
   "source": [
    "x=(1,2,3,4,5,6)\n",
    "b=list(x)\n",
    "b.insert(2,\"NewValue\")\n",
    "b"
   ]
  },
  {
   "cell_type": "markdown",
   "metadata": {},
   "source": [
    "## Q4: Write a script to generate & print dictonary via user input, keys must be in numbers and values in strings"
   ]
  },
  {
   "cell_type": "code",
   "execution_count": 5,
   "metadata": {},
   "outputs": [
    {
     "name": "stdout",
     "output_type": "stream",
     "text": [
      "Enter key1 : 1\n",
      "Enter value1 for key : Amit\n",
      "Enter key2 : 2\n",
      "Enter value2 for key : Sinha\n"
     ]
    },
    {
     "data": {
      "text/plain": [
       "{1: 'Amit', 2: 'Sinha'}"
      ]
     },
     "execution_count": 5,
     "metadata": {},
     "output_type": "execute_result"
    }
   ],
   "source": [
    "key1=int(input(\"Enter key1 : \"))\n",
    "value1=input(\"Enter value1 for key : \")\n",
    "dx={key1 : value1}\n",
    "key2=int(input(\"Enter key2 : \"))\n",
    "value2=input(\"Enter value2 for key : \")\n",
    "dx[key2]= value2\n",
    "dx"
   ]
  },
  {
   "cell_type": "markdown",
   "metadata": {},
   "source": [
    "## Q5: Write Script that accepts a sentence and calculate the number of letters and digits."
   ]
  },
  {
   "cell_type": "markdown",
   "metadata": {},
   "source": [
    "## Q6: Write a Script to merge two lists into a dictionary"
   ]
  },
  {
   "cell_type": "code",
   "execution_count": 12,
   "metadata": {},
   "outputs": [
    {
     "data": {
      "text/plain": [
       "{96464: 'Amit', 98944: 'Anand', 97314: 'Santosh'}"
      ]
     },
     "execution_count": 12,
     "metadata": {},
     "output_type": "execute_result"
    }
   ],
   "source": [
    "list1=[96464, 98944, 97314]\n",
    "list2=[\"Amit\", \"Anand\", \"Santosh\"]\n",
    "emp=dict(zip(list1,list2))\n",
    "emp"
   ]
  },
  {
   "cell_type": "markdown",
   "metadata": {},
   "source": [
    "## Q7: Script to check validity a password on following points\n",
    "length b/w 6-15\n",
    "\n",
    "atleast one Uppercase, lowercase, digit and symbol(@,#,&,%,$)\n",
    "\n",
    "no space allowed"
   ]
  },
  {
   "cell_type": "markdown",
   "metadata": {},
   "source": [
    "## Q8: Use a loop to display elements from a given list which are present at even positions"
   ]
  },
  {
   "cell_type": "code",
   "execution_count": 22,
   "metadata": {},
   "outputs": [
    {
     "name": "stdout",
     "output_type": "stream",
     "text": [
      "Lab2\n",
      "Lab4\n",
      "Lab6\n",
      "Lab8\n",
      "Lab10\n"
     ]
    }
   ],
   "source": [
    "listX=[\"Lab1\", \"Lab2\", \"Lab3\", \"Lab4\", \"Lab5\", \"Lab6\", \"Lab7\", \"Lab8\", \"Lab9\", \"Lab10\"]\n",
    "x=1\n",
    "for i in listX:\n",
    "    if(x%2==0):\n",
    "        print(i)\n",
    "    x += 1"
   ]
  },
  {
   "cell_type": "code",
   "execution_count": null,
   "metadata": {},
   "outputs": [],
   "source": []
  }
 ],
 "metadata": {
  "kernelspec": {
   "display_name": "Python 3",
   "language": "python",
   "name": "python3"
  },
  "language_info": {
   "codemirror_mode": {
    "name": "ipython",
    "version": 3
   },
   "file_extension": ".py",
   "mimetype": "text/x-python",
   "name": "python",
   "nbconvert_exporter": "python",
   "pygments_lexer": "ipython3",
   "version": "3.6.5"
  }
 },
 "nbformat": 4,
 "nbformat_minor": 2
}
